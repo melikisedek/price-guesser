{
 "cells": [
  {
   "cell_type": "code",
   "execution_count": 1,
   "metadata": {},
   "outputs": [],
   "source": [
    "import numpy as np\n",
    "import matplotlib.pyplot as plt\n",
    "#plt.style.use('./deeplearning.mplstyle')"
   ]
  },
  {
   "cell_type": "code",
   "execution_count": 49,
   "metadata": {},
   "outputs": [
    {
     "name": "stdout",
     "output_type": "stream",
     "text": [
      "x_train = [ 1.   2.   3.   5.   2.   4.   6.   8.  10.  12.   0.5  1.   1.5  2.5\n",
      "  0.8  1.8  3.   4.   5.5  6.5  7.   7.5]\n",
      "y_train = [  500.  2000.  3000. 10000.  1500.  5000.  8000. 12000. 15000. 20000.\n",
      "   100.   800.  1200.  3500.   900.  2500.  4000.  6000.  8500.  9000.\n",
      "  9500. 10000.]\n"
     ]
    }
   ],
   "source": [
    "# x_train is the input variable (size in 100 square meter)\n",
    "# y_train is the target (price in 1000s of turkish lira)\n",
    "x_train = np.array([1.0, 2.0, 3.0, 5.0, 2.0, 4.0, 6.0, 8.0, 10.0, 12.0, 0.5, 1.0, 1.5, 2.5, 0.8, 1.8, 3.0, 4.0, 5.5, 6.5, 7.0, 7.5])\n",
    "y_train = np.array([500.0, 2000.0, 3000.0, 10000.0, 1500.0, 5000.0, 8000.0, 12000.0, 15000.0, 20000.0, 100.0, 800.0, 1200.0, 3500.0, 900.0, 2500.0, 4000.0, 6000.0, 8500.0, 9000.0, 9500.0, 10000.0])\n",
    "print(f\"x_train = {x_train}\")\n",
    "print(f\"y_train = {y_train}\")"
   ]
  },
  {
   "cell_type": "code",
   "execution_count": 3,
   "metadata": {},
   "outputs": [
    {
     "name": "stdout",
     "output_type": "stream",
     "text": [
      "x_train.shape: (22,)\n",
      "Number of training examples is: 22\n"
     ]
    }
   ],
   "source": [
    "# m is the number of training examples\n",
    "print(f\"x_train.shape: {x_train.shape}\")\n",
    "m = x_train.shape[0]\n",
    "print(f\"Number of training examples is: {m}\")"
   ]
  },
  {
   "cell_type": "code",
   "execution_count": 50,
   "metadata": {},
   "outputs": [
    {
     "data": {
      "image/png": "[encoded data removed]",
      "text/plain": [
       "<Figure size 432x288 with 1 Axes>"
      ]
     },
     "metadata": {
      "needs_background": "light"
     },
     "output_type": "display_data"
    }
   ],
   "source": [
    "# Plot the data points\n",
    "plt.scatter(x_train, y_train, marker='v', c='g')\n",
    "# Set the title\n",
    "plt.title(\"Flat Prices\")\n",
    "# Set the y-axis label\n",
    "plt.ylabel('Price (in 1000s of liras)')\n",
    "# Set the x-axis label\n",
    "plt.xlabel('Size (100 sqm)')\n",
    "plt.show()"
   ]
  },
  {
   "cell_type": "code",
   "execution_count": 51,
   "metadata": {},
   "outputs": [
    {
     "name": "stdout",
     "output_type": "stream",
     "text": [
      "w: 1700\n",
      "b: -1400\n"
     ]
    }
   ],
   "source": [
    "w = 1700\n",
    "b = -1400\n",
    "print(f\"w: {w}\")\n",
    "print(f\"b: {b}\")"
   ]
  },
  {
   "cell_type": "code",
   "execution_count": 52,
   "metadata": {},
   "outputs": [],
   "source": [
    "def compute_model_output(x, w, b):\n",
    "    \"\"\"\n",
    "    Computes the prediction of a linear model\n",
    "    Args:\n",
    "      x (ndarray (m,)): Data, m examples \n",
    "      w,b (scalar)    : model parameters  \n",
    "    Returns\n",
    "      f_wb (ndarray (m,)): model prediction\n",
    "    \"\"\"\n",
    "    m = x.shape[0]\n",
    "    f_wb = np.zeros(m)\n",
    "    for i in range(m):\n",
    "        f_wb[i] = w * x[i] + b\n",
    "        \n",
    "    return f_wb"
   ]
  },
  {
   "cell_type": "code",
   "execution_count": 53,
   "metadata": {},
   "outputs": [
    {
     "data": {
      "image/png": "[encoded data removed]",
      "text/plain": [
       "<Figure size 432x288 with 1 Axes>"
      ]
     },
     "metadata": {
      "needs_background": "light"
     },
     "output_type": "display_data"
    }
   ],
   "source": [
    "tmp_f_wb = compute_model_output(x_train, w, b,)\n",
    "\n",
    "# Plot our model prediction\n",
    "plt.plot(x_train, tmp_f_wb, c='b',label='Our Prediction')\n",
    "\n",
    "# Plot the data points\n",
    "plt.scatter(x_train, y_train, marker='x', c='r',label='Actual Values')\n",
    "\n",
    "# Set the title\n",
    "plt.title(\"Housing Prices\")\n",
    "# Set the y-axis label\n",
    "plt.ylabel('Price (in 1000s of liras)')\n",
    "# Set the x-axis label\n",
    "plt.xlabel('Size (100 sqm)')\n",
    "plt.legend()\n",
    "plt.show()"
   ]
  },
  {
   "cell_type": "markdown",
   "metadata": {},
   "source": [
    "Let's guess the new house's price. It's 550 square meters!"
   ]
  },
  {
   "cell_type": "code",
   "execution_count": 69,
   "metadata": {},
   "outputs": [
    {
     "name": "stdout",
     "output_type": "stream",
     "text": [
      "3700k ₺ is the estimate price for your 3 sqm house.\n",
      "10500k ₺ is the estimate price for your 7 sqm house.\n",
      "10500k ₺ is the estimate price for your 7 sqm house.\n",
      "5400k ₺ is the estimate price for your 4 sqm house.\n",
      "7100k ₺ is the estimate price for your 5 sqm house.\n",
      "300k ₺ is the estimate price for your 1 sqm house.\n",
      "8800k ₺ is the estimate price for your 6 sqm house.\n",
      "8800k ₺ is the estimate price for your 6 sqm house.\n",
      "2000k ₺ is the estimate price for your 2 sqm house.\n",
      "5400k ₺ is the estimate price for your 4 sqm house.\n"
     ]
    }
   ],
   "source": [
    "\n",
    "#write a code that generates random number between 0 and 10\n",
    "#need for loop code\n",
    "for i in range(10):\n",
    "    x_i = np.random.randint(1,10)\n",
    "    cost_550sqft = w * x_i + b    \n",
    "    print(f\"{cost_550sqft:.0f}k ₺ is the estimate price for your {x_i} sqm house.\")\n"
   ]
  },
  {
   "cell_type": "code",
   "execution_count": null,
   "metadata": {},
   "outputs": [],
   "source": []
  },
  {
   "cell_type": "code",
   "execution_count": null,
   "metadata": {},
   "outputs": [],
   "source": []
  }
 ],
 "metadata": {
  "kernelspec": {
   "display_name": "Python 3",
   "language": "python",
   "name": "python3"
  },
  "language_info": {
   "codemirror_mode": {
    "name": "ipython",
    "version": 3
   },
   "file_extension": ".py",
   "mimetype": "text/x-python",
   "name": "python",
   "nbconvert_exporter": "python",
   "pygments_lexer": "ipython3",
   "version": "3.9.12"
  },
  "orig_nbformat": 4
 },
 "nbformat": 4,
 "nbformat_minor": 2
}
